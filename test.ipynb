{
 "cells": [
  {
   "cell_type": "code",
   "execution_count": 3,
   "metadata": {},
   "outputs": [
    {
     "name": "stdout",
     "output_type": "stream",
     "text": [
      "已連接到 Modbus Server\n",
      "讀取的值： [0, 0, 0, 0, 0, 0, 0, 0, 0, 0]\n"
     ]
    }
   ],
   "source": [
    "from pyModbusTCP.client import ModbusClient\n",
    "\n",
    "# 建立 Modbus 客戶端\n",
    "client = ModbusClient(host=\"127.0.0.1\", port=502)\n",
    "\n",
    "\n",
    "if not client.is_open:\n",
    "    if not client.open():\n",
    "        print(\"無法連接到 Modbus Server\")\n",
    "    else:\n",
    "        print(\"已連接到 Modbus Server\")\n",
    "\n",
    "\n",
    "start = 0  # 起始位址\n",
    "count = 10  # 要讀取的數量\n",
    "\n",
    "result = client.read_holding_registers(start, count) # 讀取Register\n",
    "# result = client.read_coils(start, count) # 讀取Coil\n",
    "\n",
    "if result:\n",
    "    print(\"讀取的值：\", result)\n",
    "else:\n",
    "    print(\"Modbus 讀取失敗\")\n",
    "\n",
    "client.close()"
   ]
  },
  {
   "cell_type": "code",
   "execution_count": 4,
   "metadata": {},
   "outputs": [
    {
     "name": "stdout",
     "output_type": "stream",
     "text": [
      "已連接到 Modbus Server\n",
      "寫入成功\n"
     ]
    }
   ],
   "source": [
    "from pyModbusTCP.client import ModbusClient\n",
    "\n",
    "# 建立 Modbus 客戶端\n",
    "client = ModbusClient(host=\"127.0.0.1\", port=502)\n",
    "\n",
    "if not client.is_open:\n",
    "    if not client.open():\n",
    "        print(\"無法連接到 Modbus Server\")\n",
    "    else:\n",
    "        print(\"已連接到 Modbus Server\")\n",
    "\n",
    "address = 5  # 要寫入的位址\n",
    "value_to_write = 10  # 要寫入的值\n",
    "\n",
    "\n",
    "result = client.write_single_register(address, value_to_write) # 寫入Register\n",
    "# result = client.write_single_coil(address, value_to_write) # 寫入Coil\n",
    "\n",
    "if result:\n",
    "    print(\"寫入成功\")\n",
    "else:\n",
    "    print(\"寫入失敗\")\n",
    "\n",
    "client.close()"
   ]
  },
  {
   "cell_type": "code",
   "execution_count": 10,
   "metadata": {},
   "outputs": [
    {
     "name": "stdout",
     "output_type": "stream",
     "text": [
      "###[ Loopback ]### \n",
      "  type      = IPv4\n",
      "###[ IP ]### \n",
      "     version   = 4\n",
      "     ihl       = 5\n",
      "     tos       = 0x0\n",
      "     len       = 52\n",
      "     id        = 27499\n",
      "     flags     = DF\n",
      "     frag      = 0\n",
      "     ttl       = 64\n",
      "     proto     = tcp\n",
      "     chksum    = 0x0\n",
      "     src       = 192.168.50.197\n",
      "     dst       = 192.168.50.197\n",
      "     \\options   \\\n",
      "###[ TCP ]### \n",
      "        sport     = 502\n",
      "        dport     = 56944\n",
      "        seq       = 1680003329\n",
      "        ack       = 3258498429\n",
      "        dataofs   = 5\n",
      "        reserved  = 0\n",
      "        flags     = PA\n",
      "        window    = 8442\n",
      "        chksum    = 0x1192\n",
      "        urgptr    = 0\n",
      "        options   = []\n",
      "###[ ModbusADU ]### \n",
      "           transId   = 0x2\n",
      "           protoId   = 0x0\n",
      "           len       = 6\n",
      "           unitId    = 0x1\n",
      "###[ Write Single Register Response ]### \n",
      "              funcCode  = 0x6\n",
      "              registerAddr= 0x4\n",
      "              registerValue= 0x6\n",
      "\n"
     ]
    }
   ],
   "source": [
    "import scapy.all as scapy\n",
    "import scapy.contrib.modbus as mb\n",
    "\n",
    "for pkt in scapy.PcapReader(\"write.pcapng\"):\n",
    "    if mb.ModbusPDU06WriteSingleRegisterResponse in pkt:\n",
    "        pkt.show()"
   ]
  },
  {
   "cell_type": "code",
   "execution_count": 17,
   "metadata": {},
   "outputs": [
    {
     "name": "stdout",
     "output_type": "stream",
     "text": [
      "Begin emission:\n",
      "Finished sending 1 packets.\n",
      "\n",
      "Received 1 packets, got 1 answers, remaining 0 packets\n",
      "0000  00 03 00 00 00 06 01 06 00 35 04 D2              .........5..\n"
     ]
    }
   ],
   "source": [
    "from scapy.all import *\n",
    "\n",
    "# Modbus ADU\n",
    "class ModbusTCP(Packet):\n",
    "    name = \"Modbus/TCP\"\n",
    "    fields_desc = [\n",
    "        ShortField(\"Transaction_Identifier\", 3),\n",
    "        ShortField(\"Protocol_Identifier\", 0),\n",
    "        ShortField(\"Length\", 6),\n",
    "        XByteField(\"Unit_Identifier\", 1),\n",
    "    ]\n",
    "\n",
    "# Modbus PDU\n",
    "class Modbus(Packet):\n",
    "    name = \"Modbus\"\n",
    "    fields_desc = [\n",
    "        XByteField(\"Function_Code\", 6),  \n",
    "        ShortField(\"Reference_Number\", 53),\n",
    "        # ShortField(\"Word_Count\", 63),\n",
    "        ShortField(\"Data\", 1234),\n",
    "    ]\n",
    "\n",
    "\n",
    "s = socket.socket()\n",
    "s.connect((\"192.168.50.197\", 502))\n",
    "ss = StreamSocket(s, Raw)\n",
    "\n",
    "try:\n",
    "    response = ss.sr1(Raw(ModbusTCP()/Modbus()))\n",
    "    if response:\n",
    "        response_hexdump = hexdump(response, dump=True)\n",
    "        print(response_hexdump)\n",
    "\n",
    "except KeyboardInterrupt:\n",
    "    pass"
   ]
  },
  {
   "cell_type": "code",
   "execution_count": 18,
   "metadata": {},
   "outputs": [
    {
     "name": "stdout",
     "output_type": "stream",
     "text": [
      "Begin emission:\n",
      "Finished sending 1 packets.\n",
      "\n",
      "Received 1 packets, got 1 answers, remaining 0 packets\n",
      "0000  00 03 00 00 00 83 01 03 80 00 00 00 00 00 00 00  ................\n",
      "0010  00 00 00 00 00 00 00 00 00 00 00 00 00 00 00 00  ................\n",
      "0020  00 00 00 00 00 00 00 00 00 00 00 00 00 00 00 00  ................\n",
      "0030  00 00 00 00 00 00 00 00 00 00 00 00 00 00 00 00  ................\n",
      "0040  00 00 00 00 00 00 00 00 00 00 00 00 00 00 00 00  ................\n",
      "0050  00 00 00 00 00 00 00 00 00 00 00 00 00 00 00 00  ................\n",
      "0060  00 00 00 00 00 00 00 00 00 00 00 00 00 00 00 00  ................\n",
      "0070  00 00 00 04 D2 00 00 00 00 00 00 00 00 00 00 00  ................\n",
      "0080  00 00 00 00 00 00 00 00 00                       .........\n"
     ]
    }
   ],
   "source": [
    "from scapy.all import *\n",
    "\n",
    "# Modbus ADU\n",
    "class ModbusTCP(Packet):\n",
    "    name = \"Modbus/TCP\"\n",
    "    fields_desc = [\n",
    "        ShortField(\"Transaction_Identifier\", 3),\n",
    "        ShortField(\"Protocol_Identifier\", 0),\n",
    "        ShortField(\"Length\", 6),\n",
    "        XByteField(\"Unit_Identifier\", 1),\n",
    "    ]\n",
    "\n",
    "# Modbus PDU\n",
    "class Modbus(Packet):\n",
    "    name = \"Modbus\"\n",
    "    fields_desc = [\n",
    "        XByteField(\"Function_Code\", 3),  \n",
    "        ShortField(\"Reference_Number\", 0),\n",
    "        ShortField(\"Word_Count\", 64),\n",
    "        # ShortField(\"Data\", 1234),\n",
    "    ]\n",
    "\n",
    "\n",
    "s = socket.socket()\n",
    "s.connect((\"192.168.50.197\", 502))\n",
    "ss = StreamSocket(s, Raw)\n",
    "\n",
    "try:\n",
    "    response = ss.sr1(Raw(ModbusTCP()/Modbus()))\n",
    "    if response:\n",
    "        response_hexdump = hexdump(response, dump=True)\n",
    "        print(response_hexdump)\n",
    "\n",
    "except KeyboardInterrupt:\n",
    "    pass"
   ]
  }
 ],
 "metadata": {
  "kernelspec": {
   "display_name": "Python 3",
   "language": "python",
   "name": "python3"
  },
  "language_info": {
   "codemirror_mode": {
    "name": "ipython",
    "version": 3
   },
   "file_extension": ".py",
   "mimetype": "text/x-python",
   "name": "python",
   "nbconvert_exporter": "python",
   "pygments_lexer": "ipython3",
   "version": "3.9.13"
  },
  "orig_nbformat": 4
 },
 "nbformat": 4,
 "nbformat_minor": 2
}
