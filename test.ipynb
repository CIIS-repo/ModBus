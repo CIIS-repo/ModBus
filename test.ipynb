{
 "cells": [
  {
   "cell_type": "code",
   "execution_count": null,
   "metadata": {},
   "outputs": [],
   "source": [
    "from pyModbusTCP.client import ModbusClient\n",
    "\n",
    "# 建立 Modbus 客戶端\n",
    "client = ModbusClient(host=\"127.0.0.1\", port=502)\n",
    "\n",
    "\n",
    "if not client.is_open:\n",
    "    if not client.open():\n",
    "        print(\"無法連接到 Modbus Server\")\n",
    "    else:\n",
    "        print(\"已連接到 Modbus Server\")\n",
    "\n",
    "\n",
    "start = 0  # 起始位址\n",
    "count = 10  # 要讀取的數量\n",
    "\n",
    "result = client.read_holding_registers(start, count) # 讀取Register\n",
    "# result = client.read_coils(start, count) # 讀取Coil\n",
    "\n",
    "if result:\n",
    "    print(\"讀取的值：\", result)\n",
    "else:\n",
    "    print(\"Modbus 讀取失敗\")\n",
    "\n",
    "client.close()"
   ]
  },
  {
   "cell_type": "code",
   "execution_count": null,
   "metadata": {},
   "outputs": [],
   "source": [
    "from pyModbusTCP.client import ModbusClient\n",
    "\n",
    "# 建立 Modbus 客戶端\n",
    "client = ModbusClient(host=\"127.0.0.1\", port=502)\n",
    "\n",
    "if not client.is_open:\n",
    "    if not client.open():\n",
    "        print(\"無法連接到 Modbus Server\")\n",
    "    else:\n",
    "        print(\"已連接到 Modbus Server\")\n",
    "\n",
    "address = 5  # 要寫入的位址\n",
    "value_to_write = 10  # 要寫入的值\n",
    "\n",
    "\n",
    "result = client.write_single_register(address, value_to_write) # 寫入Register\n",
    "# result = client.write_single_coil(address, value_to_write) # 寫入Coil\n",
    "\n",
    "if result:\n",
    "    print(\"寫入成功\")\n",
    "else:\n",
    "    print(\"寫入失敗\")\n",
    "\n",
    "client.close()"
   ]
  },
  {
   "cell_type": "code",
   "execution_count": 4,
   "metadata": {},
   "outputs": [
    {
     "name": "stdout",
     "output_type": "stream",
     "text": [
      "###[ Loopback ]### \n",
      "  type      = IPv4\n",
      "###[ IP ]### \n",
      "     version   = 4\n",
      "     ihl       = 5\n",
      "     tos       = 0x0\n",
      "     len       = 52\n",
      "     id        = 44293\n",
      "     flags     = DF\n",
      "     frag      = 0\n",
      "     ttl       = 64\n",
      "     proto     = tcp\n",
      "     chksum    = 0x0\n",
      "     src       = 192.168.50.197\n",
      "     dst       = 192.168.50.197\n",
      "     \\options   \\\n",
      "###[ TCP ]### \n",
      "        sport     = 502\n",
      "        dport     = 64011\n",
      "        seq       = 1236458106\n",
      "        ack       = 1209433409\n",
      "        dataofs   = 5\n",
      "        reserved  = 0\n",
      "        flags     = PA\n",
      "        window    = 8442\n",
      "        chksum    = 0xc156\n",
      "        urgptr    = 0\n",
      "        options   = []\n",
      "###[ ModbusADU ]### \n",
      "           transId   = 0x1\n",
      "           protoId   = 0x0\n",
      "           len       = 6\n",
      "           unitId    = 0x1\n",
      "###[ Write Single Register Response ]### \n",
      "              funcCode  = 0x6\n",
      "              registerAddr= 0x0\n",
      "              registerValue= 0x1\n",
      "\n",
      "Loopback / IP / TCP 192.168.50.197:502 > 192.168.50.197:64011 PA / ModbusADUResponse / ModbusPDU06WriteSingleRegisterResponse\n"
     ]
    }
   ],
   "source": [
    "import scapy.all as scapy\n",
    "import scapy.contrib.modbus as mb\n",
    "\n",
    "for pkt in scapy.PcapReader(\"write.pcapng\"):\n",
    "    if mb.ModbusADUResponse in pkt:\n",
    "        pkt.show()\n",
    "        print(pkt)"
   ]
  }
 ],
 "metadata": {
  "kernelspec": {
   "display_name": "Python 3",
   "language": "python",
   "name": "python3"
  },
  "language_info": {
   "codemirror_mode": {
    "name": "ipython",
    "version": 3
   },
   "file_extension": ".py",
   "mimetype": "text/x-python",
   "name": "python",
   "nbconvert_exporter": "python",
   "pygments_lexer": "ipython3",
   "version": "3.11.5"
  },
  "orig_nbformat": 4
 },
 "nbformat": 4,
 "nbformat_minor": 2
}
